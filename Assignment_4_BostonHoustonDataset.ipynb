{
  "nbformat": 4,
  "nbformat_minor": 0,
  "metadata": {
    "colab": {
      "name": "Assignment_4_BostonHoustonDataset.ipynb",
      "provenance": [],
      "collapsed_sections": []
    },
    "kernelspec": {
      "name": "python3",
      "display_name": "Python 3"
    },
    "language_info": {
      "name": "python"
    }
  },
  "cells": [
    {
      "cell_type": "code",
      "execution_count": 1,
      "metadata": {
        "id": "8AfZ6NH28zRN"
      },
      "outputs": [],
      "source": [
        "import numpy as np\n",
        "\n",
        "phi = np.loadtxt('/content/train.csv', dtype='float', delimiter=',', skiprows=1,\n",
        "                 usecols=tuple(range(1, 14)))"
      ]
    },
    {
      "cell_type": "code",
      "source": [
        "y = np.loadtxt('/content/train.csv', dtype='float', delimiter=',', skiprows=1,\n",
        "               usecols=14, ndmin=2)"
      ],
      "metadata": {
        "id": "u5GAB4Ii-j00"
      },
      "execution_count": 2,
      "outputs": []
    },
    {
      "cell_type": "code",
      "source": [
        "phi_tst = np.loadtxt('/content/test.csv', dtype='float', delimiter=',',\n",
        "                      skiprows=1, usecols=tuple(range(1, 14)))\n"
      ],
      "metadata": {
        "id": "lXPUjV4J-t8e"
      },
      "execution_count": 3,
      "outputs": []
    },
    {
      "cell_type": "code",
      "source": [
        "phi_tst = np.concatenate((phi_tst, np.ones((105, 1))), axis=1)\n",
        "phi = np.concatenate((phi, np.ones((400, 1))), axis=1)"
      ],
      "metadata": {
        "id": "bgxL3lq6-3cw"
      },
      "execution_count": 4,
      "outputs": []
    },
    {
      "cell_type": "code",
      "source": [
        "for i in range(0, 13):\n",
        "    cl_mx = max(phi[:, i])\n",
        "    cl_mn = min(phi[:, i])\n",
        "    phi[:, i] = (phi[:, i] - cl_mn) / (cl_mx - cl_mn)\n",
        "    phi_tst[:, i] = (phi_tst[:, i] - cl_mn) / (cl_mx - cl_mn)"
      ],
      "metadata": {
        "id": "mIXP1FYs-9jo"
      },
      "execution_count": 5,
      "outputs": []
    },
    {
      "cell_type": "code",
      "source": [
        "y = np.log(y)\n",
        "\n",
        "def del_w(p, phi, w):\n",
        "    if p == 2:\n",
        "        delw = (2 * (np.dot(np.dot(np.transpose(phi), phi), w) -\n",
        "                       np.dot(np.transpose(phi), y)) +\n",
        "                  lambd * p * np.power(np.absolute(w), (p - 1)))\n",
        "    if p < 2 and p > 1:\n",
        "        delw = (2 * (np.dot(np.dot(np.transpose(phi), phi), w) -\n",
        "                       np.dot(np.transpose(phi), y)) +\n",
        "                  lambd * p * np.power(np.absolute(w), (p - 1)) * np.sign(w))\n",
        "    return delw"
      ],
      "metadata": {
        "id": "ixyPc-Vd_Vbe"
      },
      "execution_count": 6,
      "outputs": []
    },
    {
      "cell_type": "code",
      "source": [
        "fnames = {'otpt_file.csv': 2.0,\n",
        "             'otptfile_p1.csv': 1.75,\n",
        "             'otptfile_p2.csv': 1.5,\n",
        "             'otptfile_p3.csv': 1.3\n",
        "             }"
      ],
      "metadata": {
        "id": "1dQY_b3t_c7u"
      },
      "execution_count": 7,
      "outputs": []
    },
    {
      "cell_type": "code",
      "source": [
        "for (fname, p) in fnames.items():\n",
        "    \n",
        "    w = np.zeros((14, 1))\n",
        "\n",
        "    lambd = 0.2\n",
        "\n",
        "    t = 0.00012\n",
        "\n",
        "    w_new = w - t * del_w(p, phi, w)\n",
        "\n",
        "    i = 0\n",
        "    \n",
        "    while(np.linalg.norm(w_new-w) > 10 ** -10):\n",
        "        w = w_new\n",
        "        w_new = w - t * del_w(p, phi, w)\n",
        "        i = i + 1\n",
        "\n",
        "    id_test = np.loadtxt('/content/test.csv', dtype='int', delimiter=',',skiprows=1, usecols=0, ndmin=2)\n",
        "\n",
        "    y_test = np.exp(np.dot(phi_tst, w_new))\n",
        "\n",
        "    np.savetxt(fname, np.concatenate((id_test, y_test), axis=1), delimiter=',', fmt=['%d', '%f'], header='ID,MEDV', comments='')"
      ],
      "metadata": {
        "id": "TANqE7NH_h94"
      },
      "execution_count": 8,
      "outputs": []
    }
  ]
}